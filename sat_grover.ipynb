{
 "cells": [
  {
   "cell_type": "markdown",
   "metadata": {},
   "source": [
    "# SAT solver using Grover's algorithm"
   ]
  },
  {
   "cell_type": "markdown",
   "metadata": {},
   "source": [
    "This demo notebook shows how to use pre-coded quantum algorithm. In particular, we will use Grover's algorithm to solve a satisfiability problem, and will run the algorithm in real quantum hardware."
   ]
  },
  {
   "cell_type": "markdown",
   "metadata": {},
   "source": [
    "Grover's algorithm can be used to find in $O(\\sqrt{N})$ time a solution for an unsorted search problem of $N$ elements. This can be applied, in particular, to solving the famous SAT problem, which was the first problem to be proven as **NP-hard**. Such problem accepts $2^n$ possible solutions when $n$ boolean variables are involved, and thus Grover's algorithm can reduce the $O(2^n)$ running time to $O(\\sqrt{2^n}) = O(2^{n/2})$, a significant improvement.\n",
    "\n",
    "In this notebook we will show how to solve this problem in a quantum way, for the toy case $n=3$."
   ]
  },
  {
   "cell_type": "markdown",
   "metadata": {},
   "source": [
    "## Configuration"
   ]
  },
  {
   "cell_type": "markdown",
   "metadata": {},
   "source": [
    "Required imports"
   ]
  },
  {
   "cell_type": "code",
   "execution_count": null,
   "metadata": {},
   "outputs": [],
   "source": [
    "import numpy as np\n",
    "from qiskit import BasicAer, QuantumCircuit, execute\n",
    "from qiskit.visualization import plot_histogram\n",
    "from qiskit.aqua import QuantumInstance\n",
    "from qiskit.aqua.algorithms import Grover\n",
    "from qiskit.aqua.components.oracles import LogicalExpressionOracle, TruthTableOracle\n",
    "from qiskit.providers.ibmq import least_busy"
   ]
  },
  {
   "cell_type": "markdown",
   "metadata": {},
   "source": [
    "Now we define the particular SAT problem we will try to solve, in the standard DIMACS CNF format"
   ]
  },
  {
   "cell_type": "code",
   "execution_count": null,
   "metadata": {},
   "outputs": [],
   "source": [
    "input_3sat = '''\n",
    "c example DIMACS-CNF 3-SAT\n",
    "p cnf 3 5\n",
    "-1 -2 -3 0\n",
    "1 -2 3 0\n",
    "1 2 -3 0\n",
    "1 -2 -3 0\n",
    "-1 2 3 0\n",
    "'''"
   ]
  },
  {
   "cell_type": "markdown",
   "metadata": {},
   "source": [
    "This implements the logical expression \n",
    "\n",
    "$f(v_1,v_2,v_3)=(¬v_1∨¬v_2∨¬v_3)∧(v_1∨¬v_2∨v_3)∧(v_1∨v_2∨¬v_3)∧(v_1∨¬v_2∨¬v_3)∧(¬v_1∨v_2∨v_3)$\n",
    "\n",
    "with truth table\n",
    "\n",
    "|$v_1$|$v_2$|$v_3$|$f$|\n",
    "|---|---|---|---|\n",
    "|0|0|0|1|\n",
    "|0|0|1|0|\n",
    "|0|1|0|0|\n",
    "|0|1|1|0|\n",
    "|1|0|0|0|\n",
    "|1|0|1|1|\n",
    "|1|1|0|1|\n",
    "|1|1|1|0|\n",
    "\n",
    "so the expression is satisfiable with three possible assignments of the boolean variables."
   ]
  },
  {
   "cell_type": "markdown",
   "metadata": {},
   "source": [
    "## Circuit"
   ]
  },
  {
   "cell_type": "markdown",
   "metadata": {},
   "source": [
    "Grover's algorithm requires implementing as a quantum circuit an oracle $f(x)$ that returns whether a proposed solution to the problem is valid. Fortunately, the [Qiskit Aqua library](https://github.com/Qiskit/qiskit-aqua) already provides a factory method that creates a quantum oracle function given the description of a logical expression."
   ]
  },
  {
   "cell_type": "code",
   "execution_count": null,
   "metadata": {},
   "outputs": [],
   "source": [
    "oracle = LogicalExpressionOracle(input_3sat)\n",
    "oracle.construct_circuit().draw(output='mpl')"
   ]
  },
  {
   "cell_type": "markdown",
   "metadata": {},
   "source": [
    "Now we can use this oracle as input for Grover's algorithm, also implemented in Aqua"
   ]
  },
  {
   "cell_type": "code",
   "execution_count": null,
   "metadata": {},
   "outputs": [],
   "source": [
    "grover = Grover(oracle)\n",
    "qc = grover.construct_circuit()\n",
    "qc.draw(output='mpl')"
   ]
  },
  {
   "cell_type": "markdown",
   "metadata": {},
   "source": [
    "The following functions builds the whole circuit at once"
   ]
  },
  {
   "cell_type": "code",
   "execution_count": null,
   "metadata": {},
   "outputs": [],
   "source": [
    "def nsat_solver(expression):\n",
    "    oracle = LogicalExpressionOracle(expression)\n",
    "    return Grover(oracle)"
   ]
  },
  {
   "cell_type": "markdown",
   "metadata": {},
   "source": [
    "## Simulation"
   ]
  },
  {
   "cell_type": "markdown",
   "metadata": {},
   "source": [
    "We will first run the quantum circuit in a local simulator, and check whether the results make sense. We will run 1024 shots of the QASM simulator."
   ]
  },
  {
   "cell_type": "code",
   "execution_count": null,
   "metadata": {},
   "outputs": [],
   "source": [
    "backend = BasicAer.get_backend('qasm_simulator')\n",
    "quantum_instance = QuantumInstance(backend, shots=1024)\n",
    "result = nsat_solver(input_3sat).run(quantum_instance)\n",
    "plot_histogram(result['measurement'])"
   ]
  },
  {
   "cell_type": "markdown",
   "metadata": {},
   "source": [
    "Since Grover's algorithm has a stochastic component, the solution returned is not always correct, but we can clearly see that the most probable outcomes correspond to valid assignments. It works!"
   ]
  },
  {
   "cell_type": "markdown",
   "metadata": {},
   "source": [
    "## Real quantum execution"
   ]
  },
  {
   "cell_type": "markdown",
   "metadata": {},
   "source": [
    "We will now go for real! We can also use qiskit to queue the execution of our quantum circuit in a real quantum simulator. First, we will check how many qubits we will need to run this particular circuit."
   ]
  },
  {
   "cell_type": "code",
   "execution_count": null,
   "metadata": {},
   "outputs": [],
   "source": [
    "solver = nsat_solver(input_3sat)\n",
    "qc = solver.construct_circuit()\n",
    "nqubits = qc.num_qubits\n",
    "nqubits"
   ]
  },
  {
   "cell_type": "markdown",
   "metadata": {},
   "source": [
    "12 qubits is a large number for today's standards of freely available quantum computers. We will need to look for quantum hardware able to support this number of qubits.\n",
    "\n",
    "First we need to login into our IBMQ account. If you are running this notebook and you don't have an IBMQ account, you can find instructions [here](https://qiskit.org/documentation/install.html#access-ibm-quantum-systems) on how to create an account and configure its credentials in your computer. After that is done we can run the following to find a suitable quantum computer."
   ]
  },
  {
   "cell_type": "code",
   "execution_count": null,
   "metadata": {},
   "outputs": [],
   "source": [
    "# Load our saved IBMQ accounts and get feasible backend\n",
    "from qiskit import IBMQ\n",
    "IBMQ.load_account()\n",
    "provider = IBMQ.get_provider(hub='ibm-q')\n",
    "backend = least_busy(provider.backends(filters=lambda x: x.configuration().n_qubits >= nqubits and\n",
    "                                   not x.configuration().simulator and x.status().operational==True))\n",
    "backend"
   ]
  },
  {
   "cell_type": "markdown",
   "metadata": {},
   "source": [
    "We found one! Let's now request this computer to run quantum algorith and wait for the results..."
   ]
  },
  {
   "cell_type": "code",
   "execution_count": null,
   "metadata": {},
   "outputs": [],
   "source": [
    "# Run our circuit on the least busy backend. Monitor the execution of the job in the queue\n",
    "from qiskit.tools.monitor import job_monitor\n",
    "\n",
    "shots = 1024\n",
    "quantum_instance = QuantumInstance(backend, shots=1024)\n",
    "result = solver.run(quantum_instance)"
   ]
  },
  {
   "cell_type": "markdown",
   "metadata": {},
   "source": [
    "Once the execution is finished, we can plot the results similarly to what we did with the simulator"
   ]
  },
  {
   "cell_type": "code",
   "execution_count": null,
   "metadata": {},
   "outputs": [],
   "source": [
    "plot_histogram(result['measurement'])"
   ]
  },
  {
   "cell_type": "markdown",
   "metadata": {},
   "source": [
    "Well it... looks a little bit off? The solution $000$ shows up with high probability, but the result of solutions do not stand out."
   ]
  },
  {
   "cell_type": "markdown",
   "metadata": {},
   "source": [
    "## Why so much noise?"
   ]
  },
  {
   "cell_type": "markdown",
   "metadata": {},
   "source": [
    "The current quantum computing technology can't hold superposition states for a long time. This means circuits with a large number of gates (too deep) won't run as expected, and noise will appear in the measurements. The circuit we need to create to solve this small instance of SAT is already too deep for the extant quantum computers. We can check it out with the following"
   ]
  },
  {
   "cell_type": "code",
   "execution_count": null,
   "metadata": {},
   "outputs": [],
   "source": [
    "from qiskit.compiler import transpile\n",
    "\n",
    "# transpile the circuit for ibmq_16_melbourne\n",
    "grover_compiled = transpile(result['circuit'], backend=backend, optimization_level=3)\n",
    "\n",
    "print('gates = ', grover_compiled.count_ops())\n",
    "print('depth = ', grover_compiled.depth())"
   ]
  },
  {
   "cell_type": "markdown",
   "metadata": {},
   "source": [
    "These gates are too many, so with high probability quantum decoherence will ocurr, collapsing states too soon and contaminating the results of Grover's algorithm. \n",
    "\n",
    "Quantum hardware development is still a very active research area, and it is hoped that in the near-term future more advanced quantum computers will allow us to run this kind of algorithms effectively, surpassing classical algorithms. For the time being, we can still continue researching into new algorithms and ways to make use of the quantum computing framework."
   ]
  },
  {
   "cell_type": "markdown",
   "metadata": {},
   "source": [
    "## Closing remarks"
   ]
  },
  {
   "cell_type": "markdown",
   "metadata": {},
   "source": [
    "Most of this notebook has been inspired by the [\"Solving Satisfiability Problems using Grover's Algorithm\" ](https://qiskit.org/textbook/ch-applications/satisfiability-grover.html) notebook in the qiskit book. Kudos also to this [Microsoft lecture on quantum computing](https://youtu.be/F_Riqjdh2oM) and the [Coursera course on introduction to quantum computing](https://www.coursera.org/learn/quantum-computing-algorithms)."
   ]
  }
 ],
 "metadata": {
  "kernelspec": {
   "display_name": "Python 3 (ipykernel)",
   "language": "python",
   "name": "python3"
  },
  "language_info": {
   "codemirror_mode": {
    "name": "ipython",
    "version": 3
   },
   "file_extension": ".py",
   "mimetype": "text/x-python",
   "name": "python",
   "nbconvert_exporter": "python",
   "pygments_lexer": "ipython3",
   "version": "3.8.11"
  }
 },
 "nbformat": 4,
 "nbformat_minor": 4
}
