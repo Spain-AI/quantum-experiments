{
 "cells": [
  {
   "cell_type": "markdown",
   "id": "f6407efb",
   "metadata": {},
   "source": [
    "# Splitting the universe with a quantum collapse\n",
    "\n",
    "<img src=\"https://upload.wikimedia.org/wikipedia/commons/thumb/c/c8/Schroedingers_cat_film.svg/800px-Schroedingers_cat_film.svg.png\"/>"
   ]
  },
  {
   "cell_type": "markdown",
   "id": "ac9c07b7",
   "metadata": {},
   "source": [
    "In this notebook we will make use of quantum mechanics to split the universe in two.\n",
    "\n",
    "⚠️ This is not a simulation. Use at your own risk and take responsibility for the outcomes."
   ]
  },
  {
   "cell_type": "markdown",
   "id": "cb11cb87",
   "metadata": {},
   "source": [
    "## Intro: Schrödinger equation and quantum superposition"
   ]
  },
  {
   "cell_type": "markdown",
   "id": "a218991c",
   "metadata": {},
   "source": [
    "When in isolation, the behavior of a system can be described by the [Schrödinger equation](https://en.wikipedia.org/wiki/Schr%C3%B6dinger_equation),\n",
    "\n",
    "$\n",
    "i \\hbar \\frac{d}{dt} |\\Psi(t)\\rangle = \\hat H |\\Psi(t)\\rangle .\n",
    "$\n",
    "\n",
    "The equation can be interpreted as follows: $|\\Psi(t)\\rangle$ is a quantum state that describes the probability of finding the system under a certain configuration. For instance, when measuring the position of an isolated particle,  $|\\Psi(t)\\rangle$ is a probability distribution that describes the probability of the particle showing up at every possible location. The equation describes how the values of this probability distribution change over time ($t$), in a way that depends on the energy of the system, expressed by the [Hamiltonian](https://en.wikipedia.org/wiki/Hamiltonian_(quantum_mechanics)) $\\hat H$.\n",
    "\n",
    "When trying to use the Schrödinger equation to describe complex systems we find out soon enough that the probability distribution $|\\Psi(t)\\rangle$ can be very hard to define: even a single particle could be located at any point in a continuous space. Therefore, we would need to define a probability value for every possible location, resulting in an infinite number of parameters.\n",
    "\n",
    "Fortunately, when focusing on very simple measurements like the [spin](https://en.wikipedia.org/wiki/Spin_(physics)) of a single particle, this can only take two values: up and down. Therefore, the $|\\Psi(t)\\rangle$ for the spin of a particle can be defined as a vector with just two entries: the probability of finding an up-spin or a down-spin. This also means there are two basic quantum states  for this system:\n",
    "\n",
    "* $|0\\rangle = \\left( \\begin{matrix}1\\\\0\\end{matrix} \\right)$: all the probability is concentrated in the first possible outcome (for instance, spin-down)\n",
    "* $|1\\rangle = \\left( \\begin{matrix}0\\\\1\\end{matrix} \\right)$: all the probability is concentrated in the second possible outcome (for instance, spin-up)\n",
    "\n",
    "On top of these basic states we can also find any combination or superposition in the form $|q\\rangle = \\left( \\begin{matrix}\\alpha\\\\ \\beta\\end{matrix} \\right) = \\alpha |0\\rangle + \\beta |1\\rangle$. [Born's rule](https://en.wikipedia.org/wiki/Born_rule) tells us that for such a state, the probability of observing the first outcome would be $|\\alpha|^2$ and for the second outcome $|\\beta|^2$. $|q\\rangle$ must meet $|\\alpha|^2 + |\\beta|^2 = 1$ in order to fulfill the rules of probability.\n",
    "\n",
    "All of these are well-known facts of quantum mechanics, which have been very useful to advance the field of physics. But the big question here is: why quantum phenomena exhibit this random behavior, when classical physics is deterministic? Why a particle does not have a definite position, but rather a distribution at which we might observe this particle? Different interpretations of the Schrödinger equation give rise to different realizations on how the universe works. One of them, the Everett interpretation, tells an amazing story about this fact."
   ]
  },
  {
   "cell_type": "markdown",
   "id": "03218177",
   "metadata": {},
   "source": [
    "## Everett interpretation of quantum mechanichs: many-worlds"
   ]
  },
  {
   "cell_type": "markdown",
   "id": "f7314ce6",
   "metadata": {},
   "source": [
    "According to Everett interpretation, when we measure a quantum system we only **subjectively** observe the system in a particular configuration. However, this is just a part of the whole story. To illustrate this, suppose the famous [Schrödinger's cat experiment](https://en.wikipedia.org/wiki/Schr%C3%B6dinger%27s_cat).\n",
    "\n",
    "<img src=\"https://upload.wikimedia.org/wikipedia/commons/thumb/9/91/Schrodingers_cat.svg/640px-Schrodingers_cat.svg.png\"/>\n",
    "\n",
    "<div align=\"right\">(Image credit: <a href=https://commons.wikimedia.org/wiki/File:Schrodingers_cat.svg>Wikipedia</a>)</div>\n",
    "\n",
    "In this experiment, a cat is trapped inside a box, in a way that is completely isolated from the enviroment. The box also contains a detector holding a poisonous gas, and a radioactive atom. Because of the dynamics of radioactivity, the atom will decay at some point and generate radiation, which will activate the detector and release the toxic gas, thus killing the unfortunate cat. The riddle to solve in this setting is: after a certain amount of time, is the cat dead or alive?\n",
    "\n",
    "This question is quite hard to answer, because radioactive decay is something we observe as a random process: we can't be sure if at a certain moment of time the atom has decayed and generated radiation. Actually, radioactivity is a quantum process, so we have a quantum state describing the probability of observing the atom before ($⚛️$) or after the decay ($⚡$)\n",
    "\n",
    "$|q\\rangle = \\alpha|⚛️\\rangle + \\beta|⚡\\rangle$\n",
    "\n",
    "Now, since the detector is trying to read the state of the atom, it seems natural to interpret that at an specific point of time it might read either $⚛️$ or $⚡$, with probabilities $|\\alpha|^2$ and $|\\beta|^2$ respectively. At this point, the detector has no uncertainty about the state of the atom, because a definite measurement has been performed. However, according to Everett interpretation the result is different: the detector gets **entangled** with the quantum state of the particle, resulting in the following quantum state\n",
    "\n",
    "$|q\\rangle = \\alpha|⚛️,✔️\\rangle + \\beta|⚡,☢️\\rangle$\n",
    "\n",
    "So, the detector is now in a superposition of states, one in which no radioactivity has been detected, and other in which it has. Since the detector releases the toxic gas upon radiation detection, the state of the cat **also becomes entangled**, generating the following state\n",
    "\n",
    "$|q\\rangle = \\alpha|⚛️,✔️,🐱\\rangle + \\beta|⚡,☢️,🙀\\rangle$\n",
    "\n",
    "The entanglement process stops there, since the elements inside the box are completely isolated from the rest of the world. From the point of view of an external observer, we can't tell whether the cat is dead or alive, since both states exist in superposition, and this is the reason why the famous Schrödinger's cat is dead and alive at the same time.\n",
    "\n",
    "However, we can twist the experiment a little bit more. Suppose the box with the cat is inside a larger, isolated room, where a scientist is observing the experiment. If the scientist decides to open the box, he will observe the cat being either dead or alive... but the scientist is also in an isolated environment: what makes he so special, so that he doesn't get entangled like the detector or the cat? Actually, nothing.\n",
    "\n",
    "According to Everett interpretation, what really happens is that **the scientist does get entangled**, and the quantum state of the whole system is now\n",
    "\n",
    "$|q\\rangle = \\alpha|⚛️,✔️,🐱,😃\\rangle + \\beta|⚡,☢️,🙀,😢\\rangle$\n",
    "\n",
    "This means there is a superposition of two scientists now: one who has observed an alive cat, and another one who has observed a dead cat. A particular scientist will not be aware of the existence of the other scientist, in the same way that the alive cat is not aware that he is also dead.\n",
    "\n",
    "Finally, what happens if we break the containment of the experimental room? Then the room is no longer isolated, and this quantum system in superposition gets entangled with... everything in the universe in contact with the experimental room 🌌\n",
    "\n",
    "$|q\\rangle = \\alpha|⚛️,✔️,🐱,😃,🌌\\rangle + \\beta|⚡,☢️,🙀,😢,🌌\\rangle$\n",
    "\n",
    "Similarly to the cat or the scientist, each universe is not \"aware\" of the existence of the other one. We can rightfully say that the universe has splitted into two new universes:\n",
    "\n",
    "* 🌌-$\\alpha$: where the cat is alive 🐱 and the scientist is happy 😃.\n",
    "* 🌌-$\\beta$: where the cat is dead 🙀 and the scientist is sad for this terrible outcome 😢.\n",
    "\n",
    "This is the conclusion of the Everett interpretation: every interaction with a quantum system in superposition **branches the universe** into one new universe for every possible outcome. This is why this interpretation is sometimes called the many-worlds interpretation of quantum mechanics."
   ]
  },
  {
   "cell_type": "markdown",
   "id": "cfaf1990",
   "metadata": {},
   "source": [
    "## Building a superposition state in a quantum computer"
   ]
  },
  {
   "cell_type": "markdown",
   "id": "9065a97b",
   "metadata": {},
   "source": [
    "By making use of a quantum computer we can easily create a superposition state, following the Schrödinger's cat experiment, but without doing animal harm. We just need one qubit, which we will configure in the following state\n",
    "\n",
    "$|q\\rangle = \\frac{1}{\\sqrt{2}}|0\\rangle + \\frac{1}{\\sqrt{2}}|1\\rangle$.\n",
    "\n",
    "Such state can be easily constructed by starting with the base state $|0\\rangle$ and applying a Hadamard gate $H$, which is defined as\n",
    "\n",
    "$H = \\frac{1}{\\sqrt{2}} \\left( \\begin{matrix} 1&1\\\\1&-1\\\\ \\end{matrix} \\right)$.\n",
    "\n",
    "Applying this gate to the $|0\\rangle$ state results in\n",
    "\n",
    "$H |0\\rangle = \\frac{1}{\\sqrt{2}} \\left( \\begin{matrix} 1&1\\\\1&-1\\\\ \\end{matrix} \\right) \\left( \\begin{matrix}1\\\\0\\end{matrix} \\right) = \\left( \\begin{matrix}  \\frac{1}{\\sqrt{2}} \\\\  \\frac{1}{\\sqrt{2}} \\end{matrix} \\right)\n",
    " = \\frac{1}{\\sqrt{2}} |0\\rangle + \\frac{1}{\\sqrt{2}} |1\\rangle$.\n",
    " \n",
    "Measuring this state will result in a $0$ with probability $|\\frac{1}{\\sqrt{2}}|^2 = \\frac{1}{2}$, and will result in a $1$ with the same probability.\n",
    "\n",
    "To build this state in a quantum computer we just need to build a very simple 1-qubit circuit, containing only the Hadamard gate. We also add a classic bit, that we will use later for measuring."
   ]
  },
  {
   "cell_type": "code",
   "execution_count": null,
   "id": "5a57b820",
   "metadata": {},
   "outputs": [],
   "source": [
    "from qiskit import QuantumCircuit\n",
    "\n",
    "circuit = QuantumCircuit(1, 1)\n",
    "circuit.h(0)\n",
    "circuit.draw(output='mpl')"
   ]
  },
  {
   "cell_type": "markdown",
   "id": "bd957754",
   "metadata": {},
   "source": [
    "We will also need to add a measurement operation, so that when we run the circuit we produce a quantum collapse of the qubit and obtain a definite $0$ or $1$ answer. According to Everett interpretation, this is the precise moment when the universe will split into two, one with a $0$ reading and the other one with a $1$."
   ]
  },
  {
   "cell_type": "code",
   "execution_count": null,
   "id": "e93db462",
   "metadata": {},
   "outputs": [],
   "source": [
    "circuit.measure(0, 0)\n",
    "circuit.draw(output='mpl')"
   ]
  },
  {
   "cell_type": "markdown",
   "id": "d819d605",
   "metadata": {},
   "source": [
    "## Splitting the universe: just testing"
   ]
  },
  {
   "cell_type": "markdown",
   "id": "32f92d38",
   "metadata": {},
   "source": [
    "Now that our quantum circuit is ready, we can run it in a simulator to obtain a measurement. Since we are just running a simulator inside a classical computer, we are not splitting the universe in any way. As a result of the cell, we will obtain a dictionary telling us which result (`'0'` or `'1'`) was obtained in the measurement. We can run the cell several times to check how the output changes."
   ]
  },
  {
   "cell_type": "code",
   "execution_count": null,
   "id": "2d90950f",
   "metadata": {},
   "outputs": [],
   "source": [
    "from qiskit import BasicAer, execute\n",
    "from qiskit.visualization import plot_histogram\n",
    "\n",
    "backend = BasicAer.get_backend('qasm_simulator')\n",
    "res = execute(circuit, backend, shots=1).result().get_counts()\n",
    "res"
   ]
  },
  {
   "cell_type": "markdown",
   "id": "9e134dd8",
   "metadata": {},
   "source": [
    "## Preparing the quantum computer"
   ]
  },
  {
   "cell_type": "markdown",
   "id": "5000337f",
   "metadata": {},
   "source": [
    "Let's now do the experiment in a real quantum computer. This can be easily performed by making use of one the freely available [IBM Quantum Computers in the cloud](https://quantum-computing.ibm.com/). For starters, you will need to create an account there, then login with your credentials using the following cell."
   ]
  },
  {
   "cell_type": "code",
   "execution_count": null,
   "id": "9d1afcd5",
   "metadata": {},
   "outputs": [],
   "source": [
    "from qiskit import IBMQ\n",
    "# IBMQ.save_account(\"YOUR ACCOUNT TOKEN\")  # Uncomment and add your account token\n",
    "provider = IBMQ.load_account()"
   ]
  },
  {
   "cell_type": "markdown",
   "id": "fef2a1ff",
   "metadata": {},
   "source": [
    "If you have logged in correctly, the following cell will show a list of the quantum computers and cloud simulators available for free"
   ]
  },
  {
   "cell_type": "code",
   "execution_count": null,
   "id": "d847e02e",
   "metadata": {},
   "outputs": [],
   "source": [
    "provider.backends()"
   ]
  },
  {
   "cell_type": "markdown",
   "id": "a0c45d62",
   "metadata": {},
   "source": [
    "We need to pick a real quantum computer, as a simulator won't build a true quantum state in superposition. The following cell requests a handle to the least busy quantum computer that is operational."
   ]
  },
  {
   "cell_type": "code",
   "execution_count": null,
   "id": "54661111",
   "metadata": {},
   "outputs": [],
   "source": [
    "from qiskit.providers.ibmq import least_busy\n",
    "\n",
    "backend = least_busy(provider.backends(filters=lambda x: not x.configuration().simulator \n",
    "                                       and x.status().operational==True and x.name() != \"ibmq_bogota\"))\n",
    "backend"
   ]
  },
  {
   "cell_type": "markdown",
   "id": "b1c62922",
   "metadata": {},
   "source": [
    "The quantum computer is now ready to receive our quantum circuit and run the experiment."
   ]
  },
  {
   "cell_type": "markdown",
   "id": "65b41555",
   "metadata": {},
   "source": [
    "## Adding dramatism"
   ]
  },
  {
   "cell_type": "markdown",
   "id": "834855de",
   "metadata": {},
   "source": [
    "Now, before running the code in this computer that will split the universe, let's stop for a while and consider something. We are going to produce a superposition of two quantum states, which upon measuring (and according to Everett interpretation), will split the universe into two versions of itself:\n",
    "\n",
    "* 🌌-$\\alpha$: where the particle used by the quantum computer turns out to be in a $0$ state.\n",
    "* 🌌-$\\beta$: where the particle used by the quantum computer turns out to be in a $1$ state.\n",
    "\n",
    "These two versions of the universe will appear. However, as observers we won't notice a significant change depending on whether we subjectively \"move on\" to 🌌-$\\alpha$ or 🌌-$\\beta$: just a cell in this notebook showing a different result. That's actually pretty lame for such a cosmic-wide event, and it won't produce any practical difference between the two branches of the universe. So, let's add some more drama."
   ]
  },
  {
   "cell_type": "markdown",
   "id": "2b97ab73",
   "metadata": {},
   "source": [
    "Following an experiment suggested in the book [Something Deeply Hidden](https://www.amazon.es/dp/B07NTYJJDX/), we can produce a more noticeable branching if we link a macroscopic event to the result of the quantum measurement. Schrödinger's cat is an example of that, where the life of the cat depends on this measurement. We don't want to kill anybody here, so let's do something different."
   ]
  },
  {
   "cell_type": "markdown",
   "id": "4bd5c3b5",
   "metadata": {},
   "source": [
    "<img src=\"https://upload.wikimedia.org/wikipedia/commons/thumb/5/52/Red_and_blue_pill.jpg/640px-Red_and_blue_pill.jpg\"/>"
   ]
  },
  {
   "cell_type": "markdown",
   "id": "f51a9ece",
   "metadata": {},
   "source": [
    "When thinking of a binary choice of deep significance that has rooted strongly into popular culture, I personally can't help but think in one of my favourite movies: [The Matrix](https://en.wikipedia.org/wiki/The_Matrix) (the first one, mind you). So let's do the following: get a couple of candies, one red and one blue. Make sure they are candies and not real pills, you should not take drugs without prescription!\n",
    "\n",
    "Now, make yourself the following promise:\n",
    "\n",
    "* If the result of the quantum collapse is $0$, I will take the red pill 🔴\n",
    "* If the result of the quantum collapse is $1$, I will take the blue pill 🔵\n",
    "\n",
    "You must adhere to this promise, no matter what happens, or else this experiment will not work. Once you are ready, proceed."
   ]
  },
  {
   "cell_type": "markdown",
   "id": "6c21fd26",
   "metadata": {},
   "source": [
    "## The universe branches"
   ]
  },
  {
   "cell_type": "markdown",
   "id": "da53bddb",
   "metadata": {},
   "source": [
    "The following code runs the quantum circuit in the actual quantum computer in the cloud, producing the branching and returning the measurement we obtained in our branch. For added dramatism, the code also shows a different image depending on the result, to signal in which branch of the universe we are now.\n",
    "\n",
    "This is the time. Run the code. Take the pill."
   ]
  },
  {
   "cell_type": "code",
   "execution_count": null,
   "id": "cbb33836",
   "metadata": {},
   "outputs": [],
   "source": [
    "from qiskit.utils import QuantumInstance\n",
    "from IPython.core.display import Image, display\n",
    "\n",
    "quantum_instance = QuantumInstance(backend, shots=1)\n",
    "res = execute(circuit, backend, shots=1).result().get_counts()\n",
    "\n",
    "print(f\"The result of the quantum measurement was {res}\")\n",
    "      \n",
    "red_img = \"https://albarji-labs-materials.s3.eu-west-1.amazonaws.com/redBranchPill.png\"\n",
    "blue_img = \"https://albarji-labs-materials.s3.eu-west-1.amazonaws.com/blueBranchPill.png\"\n",
    "display(Image(url=red_img if \"0\" in res else blue_img))"
   ]
  },
  {
   "cell_type": "markdown",
   "id": "c4581dea",
   "metadata": {},
   "source": [
    "There is now a superposition of two versions of you: the you that has taken the red pill, and the you that has taken the blue pill.\n",
    "\n",
    "$|q\\rangle = \\frac{1}{\\sqrt{2}}|🔴🙋🌌\\rangle + \\frac{1}{\\sqrt{2}}|🔵🙋🌌\\rangle$\n",
    "\n",
    "However, since these two versions of you exist in separate branches of the quantum state, you won't see each other. But you know there is another version of you that got treated to a different candy, so good for him/her(/you?)."
   ]
  }
 ],
 "metadata": {
  "kernelspec": {
   "display_name": "Python 3 (ipykernel)",
   "language": "python",
   "name": "python3"
  },
  "language_info": {
   "codemirror_mode": {
    "name": "ipython",
    "version": 3
   },
   "file_extension": ".py",
   "mimetype": "text/x-python",
   "name": "python",
   "nbconvert_exporter": "python",
   "pygments_lexer": "ipython3",
   "version": "3.8.11"
  }
 },
 "nbformat": 4,
 "nbformat_minor": 5
}
